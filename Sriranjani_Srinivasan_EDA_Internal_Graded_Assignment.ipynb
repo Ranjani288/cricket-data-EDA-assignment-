{
 "cells": [
  {
   "cell_type": "markdown",
   "id": "b139ab96",
   "metadata": {},
   "source": [
    "1) Plot the following charts (as shown in below fig.,) and mention any two inferences.\n",
    "(2 × 2 = 4 Marks)"
   ]
  },
  {
   "cell_type": "code",
   "execution_count": 1,
   "id": "67328ab8",
   "metadata": {},
   "outputs": [],
   "source": [
    "import seaborn as sns\n",
    "import matplotlib.pyplot as plt\n",
    "import pandas as pd\n",
    "import numpy as np"
   ]
  },
  {
   "cell_type": "code",
   "execution_count": 2,
   "id": "4a0a83ed",
   "metadata": {},
   "outputs": [
    {
     "data": {
      "text/html": [
       "<div>\n",
       "<style scoped>\n",
       "    .dataframe tbody tr th:only-of-type {\n",
       "        vertical-align: middle;\n",
       "    }\n",
       "\n",
       "    .dataframe tbody tr th {\n",
       "        vertical-align: top;\n",
       "    }\n",
       "\n",
       "    .dataframe thead th {\n",
       "        text-align: right;\n",
       "    }\n",
       "</style>\n",
       "<table border=\"1\" class=\"dataframe\">\n",
       "  <thead>\n",
       "    <tr style=\"text-align: right;\">\n",
       "      <th></th>\n",
       "      <th>Sl.NO.</th>\n",
       "      <th>PLAYER NAME</th>\n",
       "      <th>AGE</th>\n",
       "      <th>COUNTRY</th>\n",
       "      <th>TEAM</th>\n",
       "      <th>PLAYING ROLE</th>\n",
       "      <th>T-RUNS</th>\n",
       "      <th>T-WKTS</th>\n",
       "      <th>ODI-RUNS-S</th>\n",
       "      <th>ODI-SR-B</th>\n",
       "      <th>...</th>\n",
       "      <th>SR-B</th>\n",
       "      <th>SIXERS</th>\n",
       "      <th>RUNS-C</th>\n",
       "      <th>WKTS</th>\n",
       "      <th>AVE-BL</th>\n",
       "      <th>ECON</th>\n",
       "      <th>SR-BL</th>\n",
       "      <th>AUCTION YEAR</th>\n",
       "      <th>BASE PRICE</th>\n",
       "      <th>SOLD PRICE</th>\n",
       "    </tr>\n",
       "  </thead>\n",
       "  <tbody>\n",
       "    <tr>\n",
       "      <th>60</th>\n",
       "      <td>61</td>\n",
       "      <td>McCullum, BB</td>\n",
       "      <td>2</td>\n",
       "      <td>NZ</td>\n",
       "      <td>KKR+</td>\n",
       "      <td>W. Keeper</td>\n",
       "      <td>3763</td>\n",
       "      <td>0</td>\n",
       "      <td>4511</td>\n",
       "      <td>89.62</td>\n",
       "      <td>...</td>\n",
       "      <td>123.42</td>\n",
       "      <td>48</td>\n",
       "      <td>0</td>\n",
       "      <td>0</td>\n",
       "      <td>0.00</td>\n",
       "      <td>0.00</td>\n",
       "      <td>0.00</td>\n",
       "      <td>2008</td>\n",
       "      <td>175000</td>\n",
       "      <td>700000</td>\n",
       "    </tr>\n",
       "    <tr>\n",
       "      <th>108</th>\n",
       "      <td>109</td>\n",
       "      <td>Symonds, A</td>\n",
       "      <td>3</td>\n",
       "      <td>AUS</td>\n",
       "      <td>DC+</td>\n",
       "      <td>Allrounder</td>\n",
       "      <td>1462</td>\n",
       "      <td>24</td>\n",
       "      <td>5088</td>\n",
       "      <td>92.44</td>\n",
       "      <td>...</td>\n",
       "      <td>129.87</td>\n",
       "      <td>41</td>\n",
       "      <td>674</td>\n",
       "      <td>20</td>\n",
       "      <td>33.70</td>\n",
       "      <td>7.70</td>\n",
       "      <td>26.35</td>\n",
       "      <td>2008</td>\n",
       "      <td>250000</td>\n",
       "      <td>1350000</td>\n",
       "    </tr>\n",
       "    <tr>\n",
       "      <th>49</th>\n",
       "      <td>50</td>\n",
       "      <td>Katich, SM</td>\n",
       "      <td>3</td>\n",
       "      <td>AUS</td>\n",
       "      <td>KXIP</td>\n",
       "      <td>Batsman</td>\n",
       "      <td>4188</td>\n",
       "      <td>21</td>\n",
       "      <td>1324</td>\n",
       "      <td>68.74</td>\n",
       "      <td>...</td>\n",
       "      <td>129.57</td>\n",
       "      <td>8</td>\n",
       "      <td>0</td>\n",
       "      <td>0</td>\n",
       "      <td>0.00</td>\n",
       "      <td>0.00</td>\n",
       "      <td>0.00</td>\n",
       "      <td>2008</td>\n",
       "      <td>200000</td>\n",
       "      <td>200000</td>\n",
       "    </tr>\n",
       "    <tr>\n",
       "      <th>55</th>\n",
       "      <td>56</td>\n",
       "      <td>Lee, B</td>\n",
       "      <td>2</td>\n",
       "      <td>AUS</td>\n",
       "      <td>KXI+</td>\n",
       "      <td>Bowler</td>\n",
       "      <td>1451</td>\n",
       "      <td>310</td>\n",
       "      <td>1100</td>\n",
       "      <td>82.45</td>\n",
       "      <td>...</td>\n",
       "      <td>121.18</td>\n",
       "      <td>6</td>\n",
       "      <td>1009</td>\n",
       "      <td>21</td>\n",
       "      <td>48.05</td>\n",
       "      <td>7.56</td>\n",
       "      <td>38.24</td>\n",
       "      <td>2008</td>\n",
       "      <td>300000</td>\n",
       "      <td>900000</td>\n",
       "    </tr>\n",
       "    <tr>\n",
       "      <th>115</th>\n",
       "      <td>116</td>\n",
       "      <td>Umar Gul</td>\n",
       "      <td>2</td>\n",
       "      <td>PAK</td>\n",
       "      <td>KKR</td>\n",
       "      <td>Bowler</td>\n",
       "      <td>541</td>\n",
       "      <td>157</td>\n",
       "      <td>368</td>\n",
       "      <td>69.04</td>\n",
       "      <td>...</td>\n",
       "      <td>205.26</td>\n",
       "      <td>5</td>\n",
       "      <td>184</td>\n",
       "      <td>12</td>\n",
       "      <td>15.33</td>\n",
       "      <td>8.17</td>\n",
       "      <td>11.20</td>\n",
       "      <td>2008</td>\n",
       "      <td>150000</td>\n",
       "      <td>150000</td>\n",
       "    </tr>\n",
       "    <tr>\n",
       "      <th>26</th>\n",
       "      <td>27</td>\n",
       "      <td>Gayle, CH</td>\n",
       "      <td>2</td>\n",
       "      <td>WI</td>\n",
       "      <td>KKR+</td>\n",
       "      <td>Allrounder</td>\n",
       "      <td>6373</td>\n",
       "      <td>72</td>\n",
       "      <td>8087</td>\n",
       "      <td>83.95</td>\n",
       "      <td>...</td>\n",
       "      <td>161.79</td>\n",
       "      <td>129</td>\n",
       "      <td>606</td>\n",
       "      <td>13</td>\n",
       "      <td>46.62</td>\n",
       "      <td>8.05</td>\n",
       "      <td>34.85</td>\n",
       "      <td>2008</td>\n",
       "      <td>250000</td>\n",
       "      <td>800000</td>\n",
       "    </tr>\n",
       "    <tr>\n",
       "      <th>4</th>\n",
       "      <td>5</td>\n",
       "      <td>Badrinath, S</td>\n",
       "      <td>2</td>\n",
       "      <td>IND</td>\n",
       "      <td>CSK</td>\n",
       "      <td>Batsman</td>\n",
       "      <td>63</td>\n",
       "      <td>0</td>\n",
       "      <td>79</td>\n",
       "      <td>45.93</td>\n",
       "      <td>...</td>\n",
       "      <td>120.71</td>\n",
       "      <td>28</td>\n",
       "      <td>0</td>\n",
       "      <td>0</td>\n",
       "      <td>0.00</td>\n",
       "      <td>0.00</td>\n",
       "      <td>0.00</td>\n",
       "      <td>2011</td>\n",
       "      <td>100000</td>\n",
       "      <td>800000</td>\n",
       "    </tr>\n",
       "    <tr>\n",
       "      <th>54</th>\n",
       "      <td>55</td>\n",
       "      <td>Laxman, VVS</td>\n",
       "      <td>3</td>\n",
       "      <td>IND</td>\n",
       "      <td>DC+</td>\n",
       "      <td>Batsman</td>\n",
       "      <td>8781</td>\n",
       "      <td>2</td>\n",
       "      <td>2338</td>\n",
       "      <td>71.23</td>\n",
       "      <td>...</td>\n",
       "      <td>105.62</td>\n",
       "      <td>5</td>\n",
       "      <td>0</td>\n",
       "      <td>0</td>\n",
       "      <td>0.00</td>\n",
       "      <td>0.00</td>\n",
       "      <td>0.00</td>\n",
       "      <td>2008</td>\n",
       "      <td>150000</td>\n",
       "      <td>375000</td>\n",
       "    </tr>\n",
       "    <tr>\n",
       "      <th>76</th>\n",
       "      <td>77</td>\n",
       "      <td>Ojha, PP</td>\n",
       "      <td>1</td>\n",
       "      <td>IND</td>\n",
       "      <td>DC+</td>\n",
       "      <td>Bowler</td>\n",
       "      <td>70</td>\n",
       "      <td>62</td>\n",
       "      <td>41</td>\n",
       "      <td>43.61</td>\n",
       "      <td>...</td>\n",
       "      <td>30.30</td>\n",
       "      <td>0</td>\n",
       "      <td>1548</td>\n",
       "      <td>69</td>\n",
       "      <td>22.43</td>\n",
       "      <td>7.16</td>\n",
       "      <td>18.80</td>\n",
       "      <td>2011</td>\n",
       "      <td>200000</td>\n",
       "      <td>500000</td>\n",
       "    </tr>\n",
       "    <tr>\n",
       "      <th>59</th>\n",
       "      <td>60</td>\n",
       "      <td>Mathews, AD</td>\n",
       "      <td>1</td>\n",
       "      <td>SL</td>\n",
       "      <td>KKR+</td>\n",
       "      <td>Allrounder</td>\n",
       "      <td>1219</td>\n",
       "      <td>7</td>\n",
       "      <td>1447</td>\n",
       "      <td>82.59</td>\n",
       "      <td>...</td>\n",
       "      <td>123.28</td>\n",
       "      <td>12</td>\n",
       "      <td>537</td>\n",
       "      <td>15</td>\n",
       "      <td>35.80</td>\n",
       "      <td>8.20</td>\n",
       "      <td>26.33</td>\n",
       "      <td>2011</td>\n",
       "      <td>300000</td>\n",
       "      <td>950000</td>\n",
       "    </tr>\n",
       "    <tr>\n",
       "      <th>58</th>\n",
       "      <td>59</td>\n",
       "      <td>Mascarenhas, AD</td>\n",
       "      <td>2</td>\n",
       "      <td>ENG</td>\n",
       "      <td>RR+</td>\n",
       "      <td>Allrounder</td>\n",
       "      <td>0</td>\n",
       "      <td>0</td>\n",
       "      <td>245</td>\n",
       "      <td>95.33</td>\n",
       "      <td>...</td>\n",
       "      <td>101.37</td>\n",
       "      <td>1</td>\n",
       "      <td>331</td>\n",
       "      <td>19</td>\n",
       "      <td>17.42</td>\n",
       "      <td>7.01</td>\n",
       "      <td>14.95</td>\n",
       "      <td>2011</td>\n",
       "      <td>100000</td>\n",
       "      <td>100000</td>\n",
       "    </tr>\n",
       "    <tr>\n",
       "      <th>47</th>\n",
       "      <td>48</td>\n",
       "      <td>Karthik, KD</td>\n",
       "      <td>2</td>\n",
       "      <td>IND</td>\n",
       "      <td>DD+</td>\n",
       "      <td>W. Keeper</td>\n",
       "      <td>1000</td>\n",
       "      <td>0</td>\n",
       "      <td>1008</td>\n",
       "      <td>74.50</td>\n",
       "      <td>...</td>\n",
       "      <td>123.84</td>\n",
       "      <td>28</td>\n",
       "      <td>0</td>\n",
       "      <td>0</td>\n",
       "      <td>0.00</td>\n",
       "      <td>0.00</td>\n",
       "      <td>0.00</td>\n",
       "      <td>2008</td>\n",
       "      <td>200000</td>\n",
       "      <td>525000</td>\n",
       "    </tr>\n",
       "    <tr>\n",
       "      <th>75</th>\n",
       "      <td>76</td>\n",
       "      <td>Ojha, NV</td>\n",
       "      <td>2</td>\n",
       "      <td>IND</td>\n",
       "      <td>RR+</td>\n",
       "      <td>W. Keeper</td>\n",
       "      <td>0</td>\n",
       "      <td>0</td>\n",
       "      <td>1</td>\n",
       "      <td>14.28</td>\n",
       "      <td>...</td>\n",
       "      <td>117.94</td>\n",
       "      <td>50</td>\n",
       "      <td>0</td>\n",
       "      <td>0</td>\n",
       "      <td>0.00</td>\n",
       "      <td>0.00</td>\n",
       "      <td>0.00</td>\n",
       "      <td>2011</td>\n",
       "      <td>100000</td>\n",
       "      <td>270000</td>\n",
       "    </tr>\n",
       "    <tr>\n",
       "      <th>112</th>\n",
       "      <td>113</td>\n",
       "      <td>Tiwary, MK</td>\n",
       "      <td>2</td>\n",
       "      <td>IND</td>\n",
       "      <td>DD+</td>\n",
       "      <td>Batsman</td>\n",
       "      <td>0</td>\n",
       "      <td>0</td>\n",
       "      <td>165</td>\n",
       "      <td>75.68</td>\n",
       "      <td>...</td>\n",
       "      <td>113.33</td>\n",
       "      <td>22</td>\n",
       "      <td>45</td>\n",
       "      <td>1</td>\n",
       "      <td>45.00</td>\n",
       "      <td>11.25</td>\n",
       "      <td>24.00</td>\n",
       "      <td>2008</td>\n",
       "      <td>100000</td>\n",
       "      <td>675000</td>\n",
       "    </tr>\n",
       "    <tr>\n",
       "      <th>25</th>\n",
       "      <td>26</td>\n",
       "      <td>Ganguly, SC</td>\n",
       "      <td>3</td>\n",
       "      <td>IND</td>\n",
       "      <td>KKR+</td>\n",
       "      <td>Batsman</td>\n",
       "      <td>7212</td>\n",
       "      <td>32</td>\n",
       "      <td>11363</td>\n",
       "      <td>73.70</td>\n",
       "      <td>...</td>\n",
       "      <td>106.81</td>\n",
       "      <td>42</td>\n",
       "      <td>363</td>\n",
       "      <td>10</td>\n",
       "      <td>36.30</td>\n",
       "      <td>7.89</td>\n",
       "      <td>27.60</td>\n",
       "      <td>2011</td>\n",
       "      <td>200000</td>\n",
       "      <td>400000</td>\n",
       "    </tr>\n",
       "  </tbody>\n",
       "</table>\n",
       "<p>15 rows × 26 columns</p>\n",
       "</div>"
      ],
      "text/plain": [
       "     Sl.NO.      PLAYER NAME  AGE COUNTRY  TEAM PLAYING ROLE  T-RUNS  T-WKTS  \\\n",
       "60       61     McCullum, BB    2      NZ  KKR+    W. Keeper    3763       0   \n",
       "108     109       Symonds, A    3     AUS   DC+   Allrounder    1462      24   \n",
       "49       50       Katich, SM    3     AUS  KXIP      Batsman    4188      21   \n",
       "55       56           Lee, B    2     AUS  KXI+       Bowler    1451     310   \n",
       "115     116         Umar Gul    2     PAK   KKR       Bowler     541     157   \n",
       "26       27        Gayle, CH    2      WI  KKR+   Allrounder    6373      72   \n",
       "4         5     Badrinath, S    2     IND   CSK      Batsman      63       0   \n",
       "54       55      Laxman, VVS    3     IND   DC+      Batsman    8781       2   \n",
       "76       77         Ojha, PP    1     IND   DC+       Bowler      70      62   \n",
       "59       60      Mathews, AD    1      SL  KKR+   Allrounder    1219       7   \n",
       "58       59  Mascarenhas, AD    2     ENG   RR+   Allrounder       0       0   \n",
       "47       48      Karthik, KD    2     IND   DD+    W. Keeper    1000       0   \n",
       "75       76         Ojha, NV    2     IND   RR+    W. Keeper       0       0   \n",
       "112     113       Tiwary, MK    2     IND   DD+      Batsman       0       0   \n",
       "25       26      Ganguly, SC    3     IND  KKR+      Batsman    7212      32   \n",
       "\n",
       "     ODI-RUNS-S  ODI-SR-B  ...    SR-B  SIXERS  RUNS-C  WKTS  AVE-BL   ECON  \\\n",
       "60         4511     89.62  ...  123.42      48       0     0    0.00   0.00   \n",
       "108        5088     92.44  ...  129.87      41     674    20   33.70   7.70   \n",
       "49         1324     68.74  ...  129.57       8       0     0    0.00   0.00   \n",
       "55         1100     82.45  ...  121.18       6    1009    21   48.05   7.56   \n",
       "115         368     69.04  ...  205.26       5     184    12   15.33   8.17   \n",
       "26         8087     83.95  ...  161.79     129     606    13   46.62   8.05   \n",
       "4            79     45.93  ...  120.71      28       0     0    0.00   0.00   \n",
       "54         2338     71.23  ...  105.62       5       0     0    0.00   0.00   \n",
       "76           41     43.61  ...   30.30       0    1548    69   22.43   7.16   \n",
       "59         1447     82.59  ...  123.28      12     537    15   35.80   8.20   \n",
       "58          245     95.33  ...  101.37       1     331    19   17.42   7.01   \n",
       "47         1008     74.50  ...  123.84      28       0     0    0.00   0.00   \n",
       "75            1     14.28  ...  117.94      50       0     0    0.00   0.00   \n",
       "112         165     75.68  ...  113.33      22      45     1   45.00  11.25   \n",
       "25        11363     73.70  ...  106.81      42     363    10   36.30   7.89   \n",
       "\n",
       "     SR-BL  AUCTION YEAR  BASE PRICE  SOLD PRICE  \n",
       "60    0.00          2008      175000      700000  \n",
       "108  26.35          2008      250000     1350000  \n",
       "49    0.00          2008      200000      200000  \n",
       "55   38.24          2008      300000      900000  \n",
       "115  11.20          2008      150000      150000  \n",
       "26   34.85          2008      250000      800000  \n",
       "4     0.00          2011      100000      800000  \n",
       "54    0.00          2008      150000      375000  \n",
       "76   18.80          2011      200000      500000  \n",
       "59   26.33          2011      300000      950000  \n",
       "58   14.95          2011      100000      100000  \n",
       "47    0.00          2008      200000      525000  \n",
       "75    0.00          2011      100000      270000  \n",
       "112  24.00          2008      100000      675000  \n",
       "25   27.60          2011      200000      400000  \n",
       "\n",
       "[15 rows x 26 columns]"
      ]
     },
     "execution_count": 2,
     "metadata": {},
     "output_type": "execute_result"
    }
   ],
   "source": [
    "df = pd.read_excel(\"IPL[1].xlsx\")\n",
    "df.sample(15)"
   ]
  },
  {
   "cell_type": "code",
   "execution_count": 3,
   "id": "b099f7f3",
   "metadata": {},
   "outputs": [
    {
     "name": "stdout",
     "output_type": "stream",
     "text": [
      "<class 'pandas.core.frame.DataFrame'>\n",
      "RangeIndex: 130 entries, 0 to 129\n",
      "Data columns (total 26 columns):\n",
      " #   Column         Non-Null Count  Dtype  \n",
      "---  ------         --------------  -----  \n",
      " 0   Sl.NO.         130 non-null    int64  \n",
      " 1   PLAYER NAME    130 non-null    object \n",
      " 2   AGE            130 non-null    int64  \n",
      " 3   COUNTRY        130 non-null    object \n",
      " 4   TEAM           130 non-null    object \n",
      " 5   PLAYING ROLE   130 non-null    object \n",
      " 6   T-RUNS         130 non-null    int64  \n",
      " 7   T-WKTS         130 non-null    int64  \n",
      " 8   ODI-RUNS-S     130 non-null    int64  \n",
      " 9   ODI-SR-B       130 non-null    float64\n",
      " 10  ODI-WKTS       130 non-null    int64  \n",
      " 11  ODI-SR-BL      130 non-null    float64\n",
      " 12  CAPTAINCY EXP  130 non-null    int64  \n",
      " 13  RUNS-S         130 non-null    int64  \n",
      " 14  HS             130 non-null    int64  \n",
      " 15  AVE            130 non-null    float64\n",
      " 16  SR-B           130 non-null    float64\n",
      " 17  SIXERS         130 non-null    int64  \n",
      " 18  RUNS-C         130 non-null    int64  \n",
      " 19  WKTS           130 non-null    int64  \n",
      " 20  AVE-BL         130 non-null    float64\n",
      " 21  ECON           130 non-null    float64\n",
      " 22  SR-BL          130 non-null    float64\n",
      " 23  AUCTION YEAR   130 non-null    int64  \n",
      " 24  BASE PRICE     130 non-null    int64  \n",
      " 25  SOLD PRICE     130 non-null    int64  \n",
      "dtypes: float64(7), int64(15), object(4)\n",
      "memory usage: 26.5+ KB\n"
     ]
    }
   ],
   "source": [
    "df.info()"
   ]
  },
  {
   "cell_type": "code",
   "execution_count": 4,
   "id": "210cb37e",
   "metadata": {},
   "outputs": [
    {
     "data": {
      "text/plain": [
       "Sl.NO.           0\n",
       "PLAYER NAME      0\n",
       "AGE              0\n",
       "COUNTRY          0\n",
       "TEAM             0\n",
       "PLAYING ROLE     0\n",
       "T-RUNS           0\n",
       "T-WKTS           0\n",
       "ODI-RUNS-S       0\n",
       "ODI-SR-B         0\n",
       "ODI-WKTS         0\n",
       "ODI-SR-BL        0\n",
       "CAPTAINCY EXP    0\n",
       "RUNS-S           0\n",
       "HS               0\n",
       "AVE              0\n",
       "SR-B             0\n",
       "SIXERS           0\n",
       "RUNS-C           0\n",
       "WKTS             0\n",
       "AVE-BL           0\n",
       "ECON             0\n",
       "SR-BL            0\n",
       "AUCTION YEAR     0\n",
       "BASE PRICE       0\n",
       "SOLD PRICE       0\n",
       "dtype: int64"
      ]
     },
     "execution_count": 4,
     "metadata": {},
     "output_type": "execute_result"
    }
   ],
   "source": [
    "df.isnull().sum()"
   ]
  },
  {
   "cell_type": "code",
   "execution_count": 5,
   "id": "a9624d6b",
   "metadata": {},
   "outputs": [
    {
     "data": {
      "text/plain": [
       "<Axes: xlabel='AGE', ylabel='SOLD PRICE'>"
      ]
     },
     "execution_count": 5,
     "metadata": {},
     "output_type": "execute_result"
    },
    {
     "data": {
      "image/png": "[encoded data removed]",
      "text/plain": [
       "<Figure size 640x480 with 1 Axes>"
      ]
     },
     "metadata": {},
     "output_type": "display_data"
    }
   ],
   "source": [
    "sns.barplot(x='AGE', y='SOLD PRICE', data = df, hue='PLAYING ROLE')"
   ]
  },
  {
   "cell_type": "code",
   "execution_count": 6,
   "id": "f4222ecd",
   "metadata": {},
   "outputs": [
    {
     "data": {
      "text/plain": [
       "array([2, 1, 3], dtype=int64)"
      ]
     },
     "execution_count": 6,
     "metadata": {},
     "output_type": "execute_result"
    }
   ],
   "source": [
    "df['AGE'].unique()"
   ]
  },
  {
   "cell_type": "code",
   "execution_count": 7,
   "id": "117b3c6d",
   "metadata": {},
   "outputs": [
    {
     "data": {
      "text/plain": [
       "array([2009, 2008, 2011, 2010], dtype=int64)"
      ]
     },
     "execution_count": 7,
     "metadata": {},
     "output_type": "execute_result"
    }
   ],
   "source": [
    "df['AUCTION YEAR'].unique()"
   ]
  },
  {
   "cell_type": "code",
   "execution_count": null,
   "id": "614500e0",
   "metadata": {},
   "outputs": [],
   "source": []
  },
  {
   "cell_type": "code",
   "execution_count": 8,
   "id": "d1fb5fd2",
   "metadata": {},
   "outputs": [
    {
     "data": {
      "text/html": [
       "<div>\n",
       "<style scoped>\n",
       "    .dataframe tbody tr th:only-of-type {\n",
       "        vertical-align: middle;\n",
       "    }\n",
       "\n",
       "    .dataframe tbody tr th {\n",
       "        vertical-align: top;\n",
       "    }\n",
       "\n",
       "    .dataframe thead th {\n",
       "        text-align: right;\n",
       "    }\n",
       "</style>\n",
       "<table border=\"1\" class=\"dataframe\">\n",
       "  <thead>\n",
       "    <tr style=\"text-align: right;\">\n",
       "      <th></th>\n",
       "      <th>Sl.NO.</th>\n",
       "      <th>PLAYER NAME</th>\n",
       "      <th>AGE</th>\n",
       "      <th>COUNTRY</th>\n",
       "      <th>TEAM</th>\n",
       "      <th>PLAYING ROLE</th>\n",
       "      <th>T-RUNS</th>\n",
       "      <th>T-WKTS</th>\n",
       "      <th>ODI-RUNS-S</th>\n",
       "      <th>ODI-SR-B</th>\n",
       "      <th>...</th>\n",
       "      <th>SR-B</th>\n",
       "      <th>SIXERS</th>\n",
       "      <th>RUNS-C</th>\n",
       "      <th>WKTS</th>\n",
       "      <th>AVE-BL</th>\n",
       "      <th>ECON</th>\n",
       "      <th>SR-BL</th>\n",
       "      <th>AUCTION YEAR</th>\n",
       "      <th>BASE PRICE</th>\n",
       "      <th>SOLD PRICE</th>\n",
       "    </tr>\n",
       "  </thead>\n",
       "  <tbody>\n",
       "    <tr>\n",
       "      <th>28</th>\n",
       "      <td>29</td>\n",
       "      <td>Gilchrist, AC</td>\n",
       "      <td>3</td>\n",
       "      <td>AUS</td>\n",
       "      <td>DC+</td>\n",
       "      <td>W. Keeper</td>\n",
       "      <td>5570</td>\n",
       "      <td>0</td>\n",
       "      <td>9619</td>\n",
       "      <td>96.94</td>\n",
       "      <td>...</td>\n",
       "      <td>140.21</td>\n",
       "      <td>86</td>\n",
       "      <td>0</td>\n",
       "      <td>0</td>\n",
       "      <td>0.0</td>\n",
       "      <td>0.0</td>\n",
       "      <td>0.0</td>\n",
       "      <td>2008</td>\n",
       "      <td>300000</td>\n",
       "      <td>700000</td>\n",
       "    </tr>\n",
       "  </tbody>\n",
       "</table>\n",
       "<p>1 rows × 26 columns</p>\n",
       "</div>"
      ],
      "text/plain": [
       "    Sl.NO.    PLAYER NAME  AGE COUNTRY TEAM PLAYING ROLE  T-RUNS  T-WKTS  \\\n",
       "28      29  Gilchrist, AC    3     AUS  DC+    W. Keeper    5570       0   \n",
       "\n",
       "    ODI-RUNS-S  ODI-SR-B  ...    SR-B  SIXERS  RUNS-C  WKTS  AVE-BL  ECON  \\\n",
       "28        9619     96.94  ...  140.21      86       0     0     0.0   0.0   \n",
       "\n",
       "    SR-BL  AUCTION YEAR  BASE PRICE  SOLD PRICE  \n",
       "28    0.0          2008      300000      700000  \n",
       "\n",
       "[1 rows x 26 columns]"
      ]
     },
     "execution_count": 8,
     "metadata": {},
     "output_type": "execute_result"
    }
   ],
   "source": [
    "df[(df['AGE'] == 3) & (df['PLAYING ROLE'] == \"W. Keeper\")]\n"
   ]
  },
  {
   "cell_type": "markdown",
   "id": "c5acc50e",
   "metadata": {},
   "source": [
    "Inferences: For the above graph, there are 3 categories under age and the playing role is distributed across ages 1,2,3. Some inferences are:\n",
    "1) We have highest number of batsmen in category 1 of age.\n",
    "2) HIghest number of allrounders are in category 3 of age.\n",
    "3) There are no wicket keepers in category 1 of age.\n",
    "4) There is no CI bar for W.Keeper in category 3 of age,probably due to just one row data.\n"
   ]
  },
  {
   "cell_type": "code",
   "execution_count": 9,
   "id": "3c868fcd",
   "metadata": {},
   "outputs": [
    {
     "data": {
      "text/plain": [
       "<Axes: xlabel='COUNTRY', ylabel='SOLD PRICE'>"
      ]
     },
     "execution_count": 9,
     "metadata": {},
     "output_type": "execute_result"
    },
    {
     "data": {
      "image/png": "[encoded data removed]",
      "text/plain": [
       "<Figure size 640x480 with 1 Axes>"
      ]
     },
     "metadata": {},
     "output_type": "display_data"
    }
   ],
   "source": [
    "sns.boxplot(x='COUNTRY', y='SOLD PRICE', data = df)"
   ]
  },
  {
   "cell_type": "raw",
   "id": "60dd5cc1",
   "metadata": {},
   "source": [
    "Inferences:\n",
    "1) There are 3 countries with outliers\n",
    "2) There is no 5 point summary available for Bangladesh and Zimbabve, due to single observations(rows)\n",
    "3) The medin Sold Price of Bangaladesh is least (at 50000)\n",
    "4) The median for England is highest (at 1550000)\n",
    "5) India has the highest IQR"
   ]
  },
  {
   "cell_type": "raw",
   "id": "8358c0a4",
   "metadata": {},
   "source": [
    "2) Draw a Donut chart for any categorical Variable. (2 Marks) [Explore plt.circle].\n"
   ]
  },
  {
   "cell_type": "code",
   "execution_count": 10,
   "id": "3c158d31",
   "metadata": {},
   "outputs": [
    {
     "data": {
      "text/plain": [
       "[53, 22, 16, 12, 9, 7, 6, 3, 1, 1]"
      ]
     },
     "execution_count": 10,
     "metadata": {},
     "output_type": "execute_result"
    }
   ],
   "source": [
    "pie = df['COUNTRY'].unique().tolist()\n",
    "pie\n",
    "\n",
    "count_pie = df['COUNTRY'].value_counts().tolist()\n",
    "count_pie"
   ]
  },
  {
   "cell_type": "code",
   "execution_count": 11,
   "id": "28e7beb6",
   "metadata": {},
   "outputs": [
    {
     "ename": "NameError",
     "evalue": "name 'colors' is not defined",
     "output_type": "error",
     "traceback": [
      "\u001b[1;31m---------------------------------------------------------------------------\u001b[0m",
      "\u001b[1;31mNameError\u001b[0m                                 Traceback (most recent call last)",
      "Cell \u001b[1;32mIn[11], line 1\u001b[0m\n\u001b[1;32m----> 1\u001b[0m plt\u001b[38;5;241m.\u001b[39mpie(count_pie, colors\u001b[38;5;241m=\u001b[39mcolors, labels\u001b[38;5;241m=\u001b[39mpie,\n\u001b[0;32m      2\u001b[0m         autopct\u001b[38;5;241m=\u001b[39m\u001b[38;5;124m'\u001b[39m\u001b[38;5;132;01m%1.1f\u001b[39;00m\u001b[38;5;132;01m%%\u001b[39;00m\u001b[38;5;124m'\u001b[39m, pctdistance\u001b[38;5;241m=\u001b[39m\u001b[38;5;241m0.85\u001b[39m,\n\u001b[0;32m      3\u001b[0m         explode\u001b[38;5;241m=\u001b[39mexplode)\n",
      "\u001b[1;31mNameError\u001b[0m: name 'colors' is not defined"
     ]
    }
   ],
   "source": [
    "plt.pie(count_pie, colors=colors, labels=pie,\n",
    "        autopct='%1.1f%%', pctdistance=0.85,\n",
    "        explode=explode)"
   ]
  },
  {
   "cell_type": "code",
   "execution_count": null,
   "id": "f72d02dc",
   "metadata": {},
   "outputs": [],
   "source": [
    "count_pie = df['COUNTRY'].value_counts().to_dict()\n",
    "count_pie"
   ]
  },
  {
   "cell_type": "code",
   "execution_count": null,
   "id": "0d457fc7",
   "metadata": {},
   "outputs": [],
   "source": [
    "count_pie_keys = list(count_pie.keys())\n",
    "count_pie_values = list(count_pie.values())\n"
   ]
  },
  {
   "cell_type": "code",
   "execution_count": null,
   "id": "0874fda7",
   "metadata": {},
   "outputs": [],
   "source": [
    "plt.pie(count_pie_values,labels=count_pie_keys,autopct='%.2f%%') \n",
    "\n",
    "donut = plt.Circle((0,0),0.65,color='white')\n",
    "fig = plt.gcf()\n",
    "fig.gca().add_artist(donut)\n",
    "\n",
    "plt.title('Distribution of participants based on Countries')\n",
    "plt.show()"
   ]
  },
  {
   "cell_type": "raw",
   "id": "b58acb65",
   "metadata": {},
   "source": [
    "3) It has been observed that one/few outliers are present in the variable ‘SOLD PRICE’.\n",
    "i) Draw a box plot for ‘SOLD PRICE’ with outliers & find the value of IQR, Upper limit &\n",
    "lower limit.\n",
    "ii) Identify & Remove outliers using the IQR method. \n",
    "(2 × 3 = 6 Marks)"
   ]
  },
  {
   "cell_type": "code",
   "execution_count": null,
   "id": "bcb9fbde",
   "metadata": {},
   "outputs": [],
   "source": [
    "df['SOLD PRICE'].skew()"
   ]
  },
  {
   "cell_type": "code",
   "execution_count": null,
   "id": "451c5535",
   "metadata": {},
   "outputs": [],
   "source": [
    "sns.distplot(df['SOLD PRICE'])"
   ]
  },
  {
   "cell_type": "raw",
   "id": "aeb66d55",
   "metadata": {},
   "source": [
    "Yes, the column 'SOLD PRICE' is right skewed"
   ]
  },
  {
   "cell_type": "code",
   "execution_count": null,
   "id": "9a6d0091",
   "metadata": {},
   "outputs": [],
   "source": [
    "sns.boxplot(df['SOLD PRICE'])\n",
    "plt.title('Distribution of SOLD PRICE')\n"
   ]
  },
  {
   "cell_type": "code",
   "execution_count": null,
   "id": "768a20e9",
   "metadata": {},
   "outputs": [],
   "source": [
    "df['SOLD PRICE'].describe()"
   ]
  },
  {
   "cell_type": "code",
   "execution_count": null,
   "id": "0fd78a3c",
   "metadata": {},
   "outputs": [],
   "source": [
    "# Finding IQR\n",
    "percentile25 = df['SOLD PRICE'].quantile(0.25)\n",
    "percentile75 = df['SOLD PRICE'].quantile(0.75)"
   ]
  },
  {
   "cell_type": "code",
   "execution_count": null,
   "id": "85116ab8",
   "metadata": {},
   "outputs": [],
   "source": [
    "percentile25"
   ]
  },
  {
   "cell_type": "code",
   "execution_count": null,
   "id": "97b60f22",
   "metadata": {},
   "outputs": [],
   "source": [
    "percentile75"
   ]
  },
  {
   "cell_type": "code",
   "execution_count": null,
   "id": "653d07d8",
   "metadata": {},
   "outputs": [],
   "source": [
    "IQR = percentile75 - percentile25\n",
    "IQR"
   ]
  },
  {
   "cell_type": "code",
   "execution_count": null,
   "id": "209131f6",
   "metadata": {},
   "outputs": [],
   "source": [
    "Upper_Limit = percentile75 + 1.5*IQR\n",
    "Upper_Limit"
   ]
  },
  {
   "cell_type": "code",
   "execution_count": null,
   "id": "52c96214",
   "metadata": {},
   "outputs": [],
   "source": [
    "Lower_Limit = percentile25 - 1.5*IQR\n",
    "Lower_Limit\n"
   ]
  },
  {
   "cell_type": "code",
   "execution_count": null,
   "id": "a19b1300",
   "metadata": {},
   "outputs": [],
   "source": [
    "#Finding outliers\n",
    "df[df['SOLD PRICE']  > Upper_Limit]"
   ]
  },
  {
   "cell_type": "code",
   "execution_count": null,
   "id": "e8d93887",
   "metadata": {},
   "outputs": [],
   "source": [
    "df[df['SOLD PRICE']  < Lower_Limit]"
   ]
  },
  {
   "cell_type": "code",
   "execution_count": null,
   "id": "567d2eb9",
   "metadata": {},
   "outputs": [],
   "source": [
    "# Trimming\n",
    "new_df = df[df['SOLD PRICE']  < Upper_Limit]\n",
    "new_df"
   ]
  },
  {
   "cell_type": "code",
   "execution_count": null,
   "id": "6312db96",
   "metadata": {},
   "outputs": [],
   "source": [
    "# We are seeing that in the new_df, 8 values have got removed"
   ]
  },
  {
   "cell_type": "code",
   "execution_count": null,
   "id": "3c4e5644",
   "metadata": {},
   "outputs": [],
   "source": [
    "#Comparing\n",
    "\n",
    "plt.figure(figsize=(16,8))\n",
    "plt.subplot(2,2,1)\n",
    "sns.distplot(df['SOLD PRICE'])\n",
    "\n",
    "plt.subplot(2,2,2)\n",
    "sns.boxplot(df['SOLD PRICE'])\n",
    "\n",
    "plt.subplot(2,2,3)\n",
    "sns.distplot(new_df['SOLD PRICE'])\n",
    "\n",
    "plt.subplot(2,2,4)\n",
    "sns.boxplot(new_df['SOLD PRICE'])\n"
   ]
  },
  {
   "cell_type": "raw",
   "id": "e7ce4e9f",
   "metadata": {},
   "source": [
    "Thus the outliers are now treated by IQR method"
   ]
  },
  {
   "cell_type": "markdown",
   "id": "9505d2a0",
   "metadata": {},
   "source": [
    "4) Assume that we would like to filter certain records such as the players who have hit more \n",
    "than 80 sixers in the IPL tournament. Write a code to display the data frame with only the \n",
    "player name & sixers, for the same. (3 Marks)"
   ]
  },
  {
   "cell_type": "code",
   "execution_count": null,
   "id": "e223a5ea",
   "metadata": {},
   "outputs": [],
   "source": [
    "Above_80 = df[df['SIXERS']>80]\n",
    "Above_80 = Above_80[['PLAYER NAME', 'SIXERS']]\n",
    "Above_80\n",
    "#['PLAYER NAME','SIXERS']\n",
    "#Filter_Records = Filter_Records[['PLAYER NAME','SIXERS']]\n",
    "#print('Players who have hit more than 80 sixers in the IPL tournament:\\n', Above_80)"
   ]
  },
  {
   "cell_type": "code",
   "execution_count": null,
   "id": "613c3215",
   "metadata": {},
   "outputs": [],
   "source": []
  },
  {
   "cell_type": "code",
   "execution_count": null,
   "id": "3c8b8788",
   "metadata": {},
   "outputs": [],
   "source": []
  }
 ],
 "metadata": {
  "kernelspec": {
   "display_name": "Python 3 (ipykernel)",
   "language": "python",
   "name": "python3"
  },
  "language_info": {
   "codemirror_mode": {
    "name": "ipython",
    "version": 3
   },
   "file_extension": ".py",
   "mimetype": "text/x-python",
   "name": "python",
   "nbconvert_exporter": "python",
   "pygments_lexer": "ipython3",
   "version": "3.11.5"
  }
 },
 "nbformat": 4,
 "nbformat_minor": 5
}
